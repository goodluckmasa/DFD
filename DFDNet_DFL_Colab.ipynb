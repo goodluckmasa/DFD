{
  "nbformat": 4,
  "nbformat_minor": 0,
  "metadata": {
    "colab": {
      "name": "DFDNet DFL Colab",
      "provenance": [],
      "collapsed_sections": [],
      "include_colab_link": true
    },
    "kernelspec": {
      "name": "python3",
      "display_name": "Python 3"
    },
    "accelerator": "GPU"
  },
  "cells": [
    {
      "cell_type": "markdown",
      "metadata": {
        "id": "view-in-github",
        "colab_type": "text"
      },
      "source": [
        "<a href=\"https://colab.research.google.com/github/rocketsvm/DFDNet/blob/master/DFDNet_DFL_Colab.ipynb\" target=\"_parent\"><img src=\"https://colab.research.google.com/assets/colab-badge.svg\" alt=\"Open In Colab\"/></a>"
      ]
    },
    {
      "cell_type": "markdown",
      "metadata": {
        "id": "ZRnUFdLSJ_WD",
        "colab_type": "text"
      },
      "source": [
        "<b><font size=\"+4\">DFDNet for DeepFaceLab</font></b>\n",
        "\n",
        "<b><font size=\"+2\">Based on:</font></b>\n",
        "\n",
        "**GitHub repository**: [DFDNet](https://github.com/csxmli2016/DFDNet)\n",
        "\n",
        "Article: [Blind Face Restoration via Deep Multi-scale Component Dictionaries](https://arxiv.org/pdf/2008.00418.pdf)\n",
        "\n",
        "Creator: **[csxmli2016](https://github.com/csxmli2016)**\n",
        "\n",
        "This Colab notebook based on [notebook by tg-bomze](https://github.com/tg-bomze/DFDNet)"
      ]
    },
    {
      "cell_type": "code",
      "metadata": {
        "id": "O2nm3nGkLwJj",
        "colab_type": "code",
        "cellView": "form",
        "colab": {
          "base_uri": "https://localhost:8080/",
          "height": 353
        },
        "outputId": "d717636c-3187-4ec7-baae-8d2100fe4614"
      },
      "source": [
        "#@title <b><font size=\"+3\">Check GPU</font></b>\n",
        "!nvidia-smi"
      ],
      "execution_count": 1,
      "outputs": [
        {
          "output_type": "stream",
          "text": [
            "Thu Aug 27 10:13:07 2020       \n",
            "+-----------------------------------------------------------------------------+\n",
            "| NVIDIA-SMI 450.57       Driver Version: 418.67       CUDA Version: 10.1     |\n",
            "|-------------------------------+----------------------+----------------------+\n",
            "| GPU  Name        Persistence-M| Bus-Id        Disp.A | Volatile Uncorr. ECC |\n",
            "| Fan  Temp  Perf  Pwr:Usage/Cap|         Memory-Usage | GPU-Util  Compute M. |\n",
            "|                               |                      |               MIG M. |\n",
            "|===============================+======================+======================|\n",
            "|   0  Tesla K80           Off  | 00000000:00:04.0 Off |                    0 |\n",
            "| N/A   33C    P8    26W / 149W |      0MiB / 11441MiB |      0%      Default |\n",
            "|                               |                      |                 ERR! |\n",
            "+-------------------------------+----------------------+----------------------+\n",
            "                                                                               \n",
            "+-----------------------------------------------------------------------------+\n",
            "| Processes:                                                                  |\n",
            "|  GPU   GI   CI        PID   Type   Process name                  GPU Memory |\n",
            "|        ID   ID                                                   Usage      |\n",
            "|=============================================================================|\n",
            "|  No running processes found                                                 |\n",
            "+-----------------------------------------------------------------------------+\n"
          ],
          "name": "stdout"
        }
      ]
    },
    {
      "cell_type": "code",
      "metadata": {
        "id": "2E0pBF2tjnKr",
        "colab_type": "code",
        "cellView": "form",
        "colab": {
          "base_uri": "https://localhost:8080/",
          "height": 154
        },
        "outputId": "db920eb7-5d0c-4a8d-fce7-4568e72ef46b"
      },
      "source": [
        "#@title <b><font size=\"+3\"> Add shortcut and mount Google Drive</font></b>\n",
        "#@markdown **Before running this block for the first time for this account you have to make a shortcut to data:**\n",
        "#@markdown * Follow [this link](https://drive.google.com/drive/folders/1bayYIUMCSGmoFPyd4Uu2Uwn347RW-vl5)\n",
        "#@markdown * Click on **DFDNet** and select **Add shortcut to Drive**\n",
        "\n",
        "#@markdown ![](https://raw.githubusercontent.com/tg-bomze/DFDNet/whole/shortcut.JPG)\n",
        "\n",
        "from google.colab import drive\n",
        "print(\"Follow the link below, select the account where you saved the pretrained model,\")\n",
        "print(\"click the 'Allow' button, copy authorization code in the field below and press Enter.\")\n",
        "drive.mount('/content/drive')"
      ],
      "execution_count": 2,
      "outputs": [
        {
          "output_type": "stream",
          "text": [
            "Follow the link below, select the account where you saved the pretrained model,\n",
            "click the 'Allow' button, copy authorization code in the field below and press Enter.\n",
            "Go to this URL in a browser: https://accounts.google.com/o/oauth2/auth?client_id=947318989803-6bn6qk8qdgf4n4g3pfee6491hc0brc4i.apps.googleusercontent.com&redirect_uri=urn%3aietf%3awg%3aoauth%3a2.0%3aoob&scope=email%20https%3a%2f%2fwww.googleapis.com%2fauth%2fdocs.test%20https%3a%2f%2fwww.googleapis.com%2fauth%2fdrive%20https%3a%2f%2fwww.googleapis.com%2fauth%2fdrive.photos.readonly%20https%3a%2f%2fwww.googleapis.com%2fauth%2fpeopleapi.readonly&response_type=code\n",
            "\n",
            "Enter your authorization code:\n",
            "··········\n",
            "Mounted at /content/drive\n"
          ],
          "name": "stdout"
        }
      ]
    },
    {
      "cell_type": "code",
      "metadata": {
        "id": "GETEjyBz4cFj",
        "colab_type": "code",
        "cellView": "form",
        "colab": {
          "base_uri": "https://localhost:8080/",
          "height": 1000
        },
        "outputId": "944e1cc3-1e31-4b77-dcd2-6d8b9fc74dc7"
      },
      "source": [
        "#@title <b><font size=\"+3\">Prepare Colab machine</font></b>\n",
        "!pip install dominate\n",
        "\n",
        "from IPython.display import clear_output\n",
        "from google.colab import files\n",
        "from PIL import Image\n",
        "import matplotlib.pyplot as plt\n",
        "import warnings\n",
        "import os\n",
        "\n",
        "warnings.filterwarnings(\"ignore\")\n",
        "%matplotlib inline\n",
        "\n",
        "!rm -rf /content/sample_data\n",
        "!git clone --branch master https://github.com/rocketsvm/DFDNet.git\n",
        "\n",
        "!mkdir /content/DFDNet/checkpoints/\n",
        "!mkdir /content/DFDNet/checkpoints/facefh_dictionary\n",
        "!mkdir /content/DFDNet/weights/\n",
        "!mkdir /content/DFDNet/DictionaryCenter512/\n",
        "\n",
        "#os.chdir('/content/DFDNet/FaceLandmarkDetection/')\n",
        "#!python setup.py install\n",
        "os.chdir('/content/DFDNet/')\n",
        "!pip install -r requirements.txt\n",
        "os.chdir('/content/')\n",
        "!nvidia-smi -L\n",
        "\n",
        "print(\"0%/100%   Copying has started and will take about 4 minutes.\")\n",
        "!rsync -ah --progress '/content/drive/My Drive/DFDNet/checkpoints/facefh_dictionary/latest_net_G.pth' '/content/DFDNet/checkpoints/facefh_dictionary'\n",
        "print(\"33%/100%  Checkpoints copied\")\n",
        "!rsync -ah --progress  '/content/drive/My Drive/DFDNet/weights/vgg19.pth' '/content/DFDNet/weights/'\n",
        "print(\"66%/100%  Weights copied\")\n",
        "!rsync -ah --progress -r '/content/drive/My Drive/DFDNet/DictionaryCenter512/' '/content/DFDNet/DictionaryCenter512/'\n",
        "print(\"100%/100% Dictionary copied\")"
      ],
      "execution_count": 3,
      "outputs": [
        {
          "output_type": "stream",
          "text": [
            "Collecting dominate\n",
            "  Downloading https://files.pythonhosted.org/packages/c0/03/1ba70425be63f2aab42fbc98894fe5d90cdadd41f79bdc778b3e404cfd8f/dominate-2.5.2-py2.py3-none-any.whl\n",
            "Installing collected packages: dominate\n",
            "Successfully installed dominate-2.5.2\n",
            "Cloning into 'DFDNet'...\n",
            "remote: Enumerating objects: 52, done.\u001b[K\n",
            "remote: Counting objects: 100% (52/52), done.\u001b[K\n",
            "remote: Compressing objects: 100% (45/45), done.\u001b[K\n",
            "remote: Total 584 (delta 19), reused 28 (delta 6), pack-reused 532\u001b[K\n",
            "Receiving objects: 100% (584/584), 20.40 MiB | 8.92 MiB/s, done.\n",
            "Resolving deltas: 100% (200/200), done.\n",
            "Requirement already satisfied: torch in /usr/local/lib/python3.6/dist-packages (from -r requirements.txt (line 1)) (1.6.0+cu101)\n",
            "Requirement already satisfied: numpy in /usr/local/lib/python3.6/dist-packages (from -r requirements.txt (line 2)) (1.18.5)\n",
            "Requirement already satisfied: scipy>=0.17 in /usr/local/lib/python3.6/dist-packages (from -r requirements.txt (line 3)) (1.4.1)\n",
            "Requirement already satisfied: scikit-image in /usr/local/lib/python3.6/dist-packages (from -r requirements.txt (line 4)) (0.16.2)\n",
            "Requirement already satisfied: opencv-python in /usr/local/lib/python3.6/dist-packages (from -r requirements.txt (line 5)) (4.1.2.30)\n",
            "Requirement already satisfied: future in /usr/local/lib/python3.6/dist-packages (from torch->-r requirements.txt (line 1)) (0.16.0)\n",
            "Requirement already satisfied: imageio>=2.3.0 in /usr/local/lib/python3.6/dist-packages (from scikit-image->-r requirements.txt (line 4)) (2.4.1)\n",
            "Requirement already satisfied: PyWavelets>=0.4.0 in /usr/local/lib/python3.6/dist-packages (from scikit-image->-r requirements.txt (line 4)) (1.1.1)\n",
            "Requirement already satisfied: pillow>=4.3.0 in /usr/local/lib/python3.6/dist-packages (from scikit-image->-r requirements.txt (line 4)) (7.0.0)\n",
            "Requirement already satisfied: networkx>=2.0 in /usr/local/lib/python3.6/dist-packages (from scikit-image->-r requirements.txt (line 4)) (2.4)\n",
            "Requirement already satisfied: matplotlib!=3.0.0,>=2.0.0 in /usr/local/lib/python3.6/dist-packages (from scikit-image->-r requirements.txt (line 4)) (3.2.2)\n",
            "Requirement already satisfied: decorator>=4.3.0 in /usr/local/lib/python3.6/dist-packages (from networkx>=2.0->scikit-image->-r requirements.txt (line 4)) (4.4.2)\n",
            "Requirement already satisfied: pyparsing!=2.0.4,!=2.1.2,!=2.1.6,>=2.0.1 in /usr/local/lib/python3.6/dist-packages (from matplotlib!=3.0.0,>=2.0.0->scikit-image->-r requirements.txt (line 4)) (2.4.7)\n",
            "Requirement already satisfied: cycler>=0.10 in /usr/local/lib/python3.6/dist-packages (from matplotlib!=3.0.0,>=2.0.0->scikit-image->-r requirements.txt (line 4)) (0.10.0)\n",
            "Requirement already satisfied: python-dateutil>=2.1 in /usr/local/lib/python3.6/dist-packages (from matplotlib!=3.0.0,>=2.0.0->scikit-image->-r requirements.txt (line 4)) (2.8.1)\n",
            "Requirement already satisfied: kiwisolver>=1.0.1 in /usr/local/lib/python3.6/dist-packages (from matplotlib!=3.0.0,>=2.0.0->scikit-image->-r requirements.txt (line 4)) (1.2.0)\n",
            "Requirement already satisfied: six in /usr/local/lib/python3.6/dist-packages (from cycler>=0.10->matplotlib!=3.0.0,>=2.0.0->scikit-image->-r requirements.txt (line 4)) (1.15.0)\n",
            "GPU 0: Tesla K80 (UUID: GPU-31b8931e-897b-c5f3-02d5-3a7315a87071)\n",
            "0%/100%   Copying has started and will take about 4 minutes.\n",
            "sending incremental file list\n",
            "latest_net_G.pth\n",
            "        961.69M 100%   57.77MB/s    0:00:15 (xfr#1, to-chk=0/1)\n",
            "33%/100%  Checkpoints copied\n",
            "sending incremental file list\n",
            "vgg19.pth\n",
            "        574.67M 100%   17.40MB/s    0:00:31 (xfr#1, to-chk=0/1)\n",
            "66%/100%  Weights copied\n",
            "sending incremental file list\n",
            "./\n",
            "left_eye_128_center.npy\n",
            "        209.72M 100%   20.34MB/s    0:00:09 (xfr#1, to-chk=15/17)\n",
            "left_eye_256_center.npy\n",
            "        419.43M 100%   17.65MB/s    0:00:22 (xfr#2, to-chk=14/17)\n",
            "left_eye_32_center.npy\n",
            "         26.21M 100%  174.61MB/s    0:00:00 (xfr#3, to-chk=13/17)\n",
            "left_eye_64_center.npy\n",
            "        104.86M 100%   39.25MB/s    0:00:02 (xfr#4, to-chk=12/17)\n",
            "mouth_128_center.npy\n",
            "        382.21M 100%   20.41MB/s    0:00:17 (xfr#5, to-chk=11/17)\n",
            "mouth_256_center.npy\n",
            "        792.99M 100%   17.62MB/s    0:00:42 (xfr#6, to-chk=10/17)\n",
            "mouth_32_center.npy\n",
            "         37.75M 100%   23.16MB/s    0:00:01 (xfr#7, to-chk=9/17)\n",
            "mouth_64_center.npy\n",
            "        177.21M 100%   48.87MB/s    0:00:03 (xfr#8, to-chk=8/17)\n",
            "nose_128_center.npy\n",
            "         75.50M 100%   13.87MB/s    0:00:05 (xfr#9, to-chk=7/17)\n",
            "nose_256_center.npy\n",
            "        163.84M 100%   19.95MB/s    0:00:07 (xfr#10, to-chk=6/17)\n",
            "nose_32_center.npy\n",
            "          9.44M 100%    4.31MB/s    0:00:02 (xfr#11, to-chk=5/17)\n",
            "nose_64_center.npy\n",
            "         37.75M 100%   12.70MB/s    0:00:02 (xfr#12, to-chk=4/17)\n",
            "right_eye_128_center.npy\n",
            "        209.72M 100%   32.54MB/s    0:00:06 (xfr#13, to-chk=3/17)\n",
            "right_eye_256_center.npy\n",
            "        419.43M 100%   16.65MB/s    0:00:24 (xfr#14, to-chk=2/17)\n",
            "right_eye_32_center.npy\n",
            "         26.21M 100%   33.20MB/s    0:00:00 (xfr#15, to-chk=1/17)\n",
            "right_eye_64_center.npy\n",
            "        104.86M 100%   32.27MB/s    0:00:03 (xfr#16, to-chk=0/17)\n",
            "100%/100% Dictionary copied\n"
          ],
          "name": "stdout"
        }
      ]
    },
    {
      "cell_type": "code",
      "metadata": {
        "id": "OZ7-E-vRSYar",
        "colab_type": "code",
        "cellView": "form",
        "colab": {
          "base_uri": "https://localhost:8080/",
          "height": 1000
        },
        "outputId": "e3a1c4bb-6560-4fc1-de8a-1ff171132dfc"
      },
      "source": [
        "#@title <b><font size=\"+3\">Enchance!</font></b>\n",
        "\n",
        "working_dir = \"/content/drive/My Drive/\" #@param {type:\"string\"}\n",
        "\n",
        "#@markdown Pick a folder from your Google Drive.\n",
        "\n",
        "#@markdown **working_dir** should contain **aligned** subfolder with JPG images that were extracted by DeepFaceLab *'faceset extract'* scripts.\n",
        "\n",
        "#@markdown Results will be saved in **aligned_dfdn** subfolder of working_dir.\n",
        "\n",
        "#@markdown Existing files will be skipped so you can easily continue in case of disconnect.\n",
        "\n",
        "os.chdir('/content/DFDNet/')\n",
        "!python -W ignore test_DFL.py --working_dir \"$working_dir\""
      ],
      "execution_count": null,
      "outputs": [
        {
          "output_type": "stream",
          "text": [
            "UNetDictFace\n",
            "model [TestModel] was created\n",
            "---------- Networks initialized -------------\n",
            "[Network G] Total number of parameters : 240.117 M\n",
            "-----------------------------------------------\n",
            "[1/1242] Restoring 00020.jpg\n",
            "[2/1242] Restoring 00047.jpg\n",
            "[3/1242] Restoring 00244.jpg\n",
            "[4/1242] Restoring 00260.jpg\n",
            "[5/1242] Restoring 00284.jpg\n",
            "[6/1242] Restoring 00286.jpg\n",
            "[7/1242] Restoring 00289.jpg\n",
            "[8/1242] Restoring 00254.jpg\n",
            "[9/1242] Restoring 00271.jpg\n",
            "[10/1242] Restoring 00282.jpg\n",
            "[11/1242] Restoring 00270.jpg\n",
            "[12/1242] Restoring 00266.jpg\n",
            "[13/1242] Restoring 00276.jpg\n",
            "[14/1242] Restoring 00257.jpg\n",
            "[15/1242] Restoring 00246.jpg\n",
            "[16/1242] Restoring 00290.jpg\n",
            "[17/1242] Restoring 00247.jpg\n",
            "[18/1242] Restoring 00269.jpg\n",
            "[19/1242] Restoring 00249.jpg\n",
            "[20/1242] Restoring 00267.jpg\n",
            "[21/1242] Restoring 00251.jpg\n",
            "[22/1242] Restoring 00281.jpg\n",
            "[23/1242] Restoring 00280.jpg\n",
            "[24/1242] Restoring 00259.jpg\n",
            "[25/1242] Restoring 00288.jpg\n",
            "[26/1242] Restoring 00278.jpg\n",
            "[27/1242] Restoring 00268.jpg\n",
            "[28/1242] Restoring 00277.jpg\n",
            "[29/1242] Restoring 00252.jpg\n",
            "[30/1242] Restoring 00285.jpg\n",
            "[31/1242] Restoring 00263.jpg\n",
            "[32/1242] Restoring 00253.jpg\n",
            "[33/1242] Restoring 00293.jpg\n",
            "[34/1242] Restoring 00283.jpg\n",
            "[35/1242] Restoring 00262.jpg\n",
            "[36/1242] Restoring 00273.jpg\n",
            "[37/1242] Restoring 00222.jpg\n",
            "[38/1242] Restoring 00186.jpg\n",
            "[39/1242] Restoring 00220.jpg\n",
            "[40/1242] Restoring 00229.jpg\n",
            "[41/1242] Restoring 00202.jpg\n",
            "[42/1242] Restoring 00180.jpg\n",
            "[43/1242] Restoring 00230.jpg\n",
            "[44/1242] Restoring 00236.jpg\n",
            "[45/1242] Restoring 00198.jpg\n",
            "[46/1242] Restoring 00193.jpg\n",
            "[47/1242] Restoring 00264.jpg\n",
            "[48/1242] Restoring 00239.jpg\n",
            "[49/1242] Restoring 00241.jpg\n",
            "[50/1242] Restoring 00261.jpg\n",
            "[51/1242] Restoring 00178.jpg\n",
            "[52/1242] Restoring 00224.jpg\n",
            "[53/1242] Restoring 00206.jpg\n",
            "[54/1242] Restoring 00183.jpg\n",
            "[55/1242] Restoring 00199.jpg\n",
            "[56/1242] Restoring 00234.jpg\n",
            "[57/1242] Restoring 00184.jpg\n",
            "[58/1242] Restoring 00209.jpg\n",
            "[59/1242] Restoring 00238.jpg\n",
            "[60/1242] Restoring 00217.jpg\n",
            "[61/1242] Restoring 00214.jpg\n",
            "[62/1242] Restoring 00291.jpg\n",
            "[63/1242] Restoring 00232.jpg\n"
          ],
          "name": "stdout"
        }
      ]
    }
  ]
}