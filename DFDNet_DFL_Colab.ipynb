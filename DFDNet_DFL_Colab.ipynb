{
  "nbformat": 4,
  "nbformat_minor": 0,
  "metadata": {
    "colab": {
      "name": "DFDNet DFL Colab",
      "provenance": [],
      "collapsed_sections": [],
      "include_colab_link": true
    },
    "kernelspec": {
      "name": "python3",
      "display_name": "Python 3"
    },
    "accelerator": "GPU"
  },
  "cells": [
    {
      "cell_type": "markdown",
      "metadata": {
        "id": "view-in-github",
        "colab_type": "text"
      },
      "source": [
        "<a href=\"https://colab.research.google.com/github/rocketsvm/DFDNet/blob/master/DFDNet_DFL_Colab.ipynb\" target=\"_parent\"><img src=\"https://colab.research.google.com/assets/colab-badge.svg\" alt=\"Open In Colab\"/></a>"
      ]
    },
    {
      "cell_type": "markdown",
      "metadata": {
        "id": "ZRnUFdLSJ_WD",
        "colab_type": "text"
      },
      "source": [
        "<b><font size=\"+4\">DFDNet for DeepFaceLab</font></b>\n",
        "\n",
        "<b><font size=\"+2\">Based on:</font></b>\n",
        "\n",
        "**GitHub repository**: [DFDNet](https://github.com/csxmli2016/DFDNet)\n",
        "\n",
        "Article: [Blind Face Restoration via Deep Multi-scale Component Dictionaries](https://arxiv.org/pdf/2008.00418.pdf)\n",
        "\n",
        "Creator: **[csxmli2016](https://github.com/csxmli2016)**\n",
        "\n",
        "This Colab notebook based on [notebook by tg-bomze](https://github.com/tg-bomze/DFDNet)"
      ]
    },
    {
      "cell_type": "code",
      "metadata": {
        "id": "O2nm3nGkLwJj",
        "colab_type": "code",
        "cellView": "form",
        "colab": {}
      },
      "source": [
        "#@title <b><font size=\"+3\">0) Check GPU</font></b>\n",
        "!nvidia-smi"
      ],
      "execution_count": null,
      "outputs": []
    },
    {
      "cell_type": "code",
      "metadata": {
        "id": "GETEjyBz4cFj",
        "colab_type": "code",
        "cellView": "form",
        "colab": {}
      },
      "source": [
        "#@title <b><font size=\"+3\">1) Prepare Colab machine</font></b>\n",
        "!pip install dominate\n",
        "\n",
        "from IPython.display import clear_output\n",
        "from google.colab import files\n",
        "from PIL import Image\n",
        "import matplotlib.pyplot as plt\n",
        "import warnings\n",
        "import os\n",
        "\n",
        "warnings.filterwarnings(\"ignore\")\n",
        "%matplotlib inline\n",
        "\n",
        "!rm -rf /content/sample_data\n",
        "!git clone --branch master https://github.com/rocketsvm/DFDNet.git\n",
        "\n",
        "os.chdir('/content/DFDNet/')\n",
        "!pip install -r requirements.txt\n",
        "\n",
        "link_prefix = 'https://github.com/rocketsvm/DFDNet/releases/download/20200827/'\n",
        "wget_options = '-q --show-progress --progress=bar:noscroll --no-check-certificate -r'\n",
        "!wget $wget_options $link_prefix'latest_net_G.pth' -O 'latest_net_G.pth'\n",
        "!wget $wget_options $link_prefix'left_eye_32_center.npy' -O 'left_eye_32_center.npy'\n",
        "!wget $wget_options $link_prefix'left_eye_64_center.npy' -O 'left_eye_64_center.npy'\n",
        "!wget $wget_options $link_prefix'left_eye_128_center.npy' -O 'left_eye_128_center.npy'\n",
        "!wget $wget_options $link_prefix'left_eye_256_center.npy' -O 'left_eye_256_center.npy'\n",
        "!wget $wget_options $link_prefix'right_eye_32_center.npy' -O 'right_eye_32_center.npy'\n",
        "!wget $wget_options $link_prefix'right_eye_64_center.npy' -O 'right_eye_64_center.npy'\n",
        "!wget $wget_options $link_prefix'right_eye_128_center.npy' -O 'right_eye_128_center.npy'\n",
        "!wget $wget_options $link_prefix'right_eye_256_center.npy' -O 'right_eye_256_center.npy'\n",
        "!wget $wget_options $link_prefix'mouth_32_center.npy' -O 'mouth_32_center.npy'\n",
        "!wget $wget_options $link_prefix'mouth_64_center.npy' -O 'mouth_64_center.npy'\n",
        "!wget $wget_options $link_prefix'mouth_128_center.npy' -O 'mouth_128_center.npy'\n",
        "!wget $wget_options $link_prefix'mouth_256_center.npy' -O 'mouth_256_center.npy'\n",
        "!wget $wget_options $link_prefix'nose_32_center.npy' -O 'nose_32_center.npy'\n",
        "!wget $wget_options $link_prefix'nose_64_center.npy' -O 'nose_64_center.npy'\n",
        "!wget $wget_options $link_prefix'nose_128_center.npy' -O 'nose_128_center.npy'\n",
        "!wget $wget_options $link_prefix'nose_256_center.npy' -O 'nose_256_center.npy'\n",
        "!wget $wget_options $link_prefix'vgg19.pth' -O 'vgg19.pth'\n",
        "!mkdir -p /content/DFDNet/checkpoints/facefh_dictionary\n",
        "!mv latest_net_G.pth /content/DFDNet/checkpoints/facefh_dictionary\n",
        "!mkdir -p /content/DFDNet/DictionaryCenter512\n",
        "!mv *_center.npy /content/DFDNet/DictionaryCenter512\n",
        "!mkdir -p /content/DFDNet/weights\n",
        "!mv vgg19.pth /content/DFDNet/weights\n",
        "\n",
        "!nvidia-smi -L\n",
        "\n",
        "# print(\"0%/100%   Copying has started and will take about 4 minutes.\")\n",
        "# !rsync -ah --progress '/content/drive/My Drive/DFDNet/checkpoints/facefh_dictionary/latest_net_G.pth' '/content/DFDNet/checkpoints/facefh_dictionary'\n",
        "# print(\"33%/100%  Checkpoints copied\")\n",
        "# !rsync -ah --progress  '/content/drive/My Drive/DFDNet/weights/vgg19.pth' '/content/DFDNet/weights/'\n",
        "# print(\"66%/100%  Weights copied\")\n",
        "# !rsync -ah --progress -r '/content/drive/My Drive/DFDNet/DictionaryCenter512/' '/content/DFDNet/DictionaryCenter512/'\n",
        "# print(\"100%/100% Dictionary copied\")"
      ],
      "execution_count": null,
      "outputs": []
    },
    {
      "cell_type": "code",
      "metadata": {
        "id": "pbFO8GCI-DCr",
        "colab_type": "code",
        "colab": {},
        "cellView": "form"
      },
      "source": [
        "#@title <b><font size=\"+3\">2) Mount Google Drive</font></b>\n",
        "\n",
        "from google.colab import drive\n",
        "drive.mount('/content/drive')\n"
      ],
      "execution_count": null,
      "outputs": []
    },
    {
      "cell_type": "code",
      "metadata": {
        "id": "OZ7-E-vRSYar",
        "colab_type": "code",
        "cellView": "form",
        "colab": {}
      },
      "source": [
        "#@title <b><font size=\"+3\">3) Enchance!</font></b>\n",
        "\n",
        "import os\n",
        "\n",
        "working_dir = \"/content/drive/My Drive/\" #@param {type:\"string\"}\n",
        "aligned_zip = False #@param {type:\"boolean\"}\n",
        "jpeg_quality = 95 #@param {type:\"slider\", min:90, max:100, step:1}\n",
        "\n",
        "#@markdown Pick a folder from your Google Drive.\n",
        "\n",
        "#@markdown **working_dir** should contain **aligned** subfolder or **aligned.zip** file with JPG images that were extracted by DeepFaceLab *'faceset extract'* scripts.\n",
        "\n",
        "#@markdown Results will be saved in **aligned_dfdn** subfolder or **aligned_dfdn.zip** file in **working_dir**.\n",
        "\n",
        "#@markdown If working not in zip mode existing files will be skipped so you can easily continue in case of disconnect.\n",
        "\n",
        "if aligned_zip:\n",
        "  zip_path = os.path.join(working_dir,'aligned.zip')\n",
        "  if not os.path.isfile(zip_path):\n",
        "    print('\"{}\" not found'.format(zip_path))\n",
        "    sys.exit()\n",
        "  !rm -r '/content/aligned'\n",
        "  !rm -r '/content/aligned_dfdn'\n",
        "  !rsync -ah --progress \"$zip_path\" '/content/'\n",
        "  !mkdir -p '/content/aligned'\n",
        "  !7z e '/content/aligned.zip' -o'/content/aligned'\n",
        "  !rm '/content/aligned.zip'\n",
        "  w_dir = '/content/'\n",
        "  tmp_dir = ''\n",
        "else:\n",
        "  in_path = os.path.join(working_dir,'aligned')\n",
        "  out_path = os.path.join(working_dir,'aligned_dfdn')\n",
        "  if not os.path.isdir(in_path):\n",
        "    print('\"{}\" not found'.format(in_path))\n",
        "    sys.exit()\n",
        "  !mkdir -p \"$out_path\"\n",
        "  w_dir = working_dir\n",
        "  tmp_dir = '/content/'\n",
        "\n",
        "os.chdir('/content/DFDNet/')\n",
        "!python -W ignore test_DFL.py --working_dir \"$w_dir\" --jpeg_quality=$jpeg_quality --tmp_dir=\"$tmp_dir\"\n",
        "\n",
        "if aligned_zip:\n",
        "  !rm /content/aligned_dfdn.zip\n",
        "  !7z a /content/aligned_dfdn.zip /content/aligned_dfdn/*\n",
        "  output_zip = os.path.join(working_dir,'aligned_dfdn.zip')\n",
        "  !rsync -ah --progress /content/aligned_dfdn.zip \"$output_zip\"\n",
        "  print('Results saved to \"{}\"'.format(output_zip))"
      ],
      "execution_count": null,
      "outputs": []
    }
  ]
}